{
  "nbformat": 4,
  "nbformat_minor": 0,
  "metadata": {
    "colab": {
      "provenance": [],
      "authorship_tag": "ABX9TyNS5HBBwS1Uqjk9iqrmlB7v"
    },
    "kernelspec": {
      "name": "python3",
      "display_name": "Python 3"
    },
    "language_info": {
      "name": "python"
    }
  },
  "cells": [
    {
      "cell_type": "markdown",
      "source": [
        "#Data Science Tools and Ecosystem\n"
      ],
      "metadata": {
        "id": "BZbuGVx_xr1g"
      }
    },
    {
      "cell_type": "markdown",
      "source": [
        "In this notebook, Data Science Tools and Ecosystem are summarized."
      ],
      "metadata": {
        "id": "am2C7452x_U9"
      }
    },
    {
      "cell_type": "markdown",
      "source": [
        "__Objectives:__\n",
        "- List most used data science languages\n",
        "- List most used data science libraries\n",
        "- Showcase using jupyter notebook"
      ],
      "metadata": {
        "id": "tCSIqPDL0RYa"
      }
    },
    {
      "cell_type": "markdown",
      "source": [
        "Some of the popular languages that Data Scientists use are:\n",
        "1. Python\n",
        "2. R\n",
        "3. SQL"
      ],
      "metadata": {
        "id": "XKRT2YhiyM5V"
      }
    },
    {
      "cell_type": "markdown",
      "source": [
        "Some of the commonly used libraries used by Data Scientists include:\n",
        "1. Scikit-Learn\n",
        "2. Tensorflow\n",
        "3. Pytorch"
      ],
      "metadata": {
        "id": "imbx_Evvyg9B"
      }
    },
    {
      "cell_type": "markdown",
      "source": [
        "|Data Science Tools|\n",
        "|-----|\n",
        "|Rstudio|\n",
        "|VS Code|\n",
        "|Jupeter notebook|"
      ],
      "metadata": {
        "id": "Bzb6rd6czBGB"
      }
    },
    {
      "cell_type": "markdown",
      "source": [
        "### Below are a few examples of evaluating arithmetic expressions in Python.\n",
        ""
      ],
      "metadata": {
        "id": "fgwqmmtZza7n"
      }
    },
    {
      "cell_type": "code",
      "execution_count": 2,
      "metadata": {
        "colab": {
          "base_uri": "https://localhost:8080/"
        },
        "id": "RpdlUj8vxMCH",
        "outputId": "1cebe701-2d25-4f7f-f6bb-cb3e0428903e"
      },
      "outputs": [
        {
          "output_type": "execute_result",
          "data": {
            "text/plain": [
              "17"
            ]
          },
          "metadata": {},
          "execution_count": 2
        }
      ],
      "source": [
        "#This a simple arithmetic expression to mutiply then add integers.\n",
        "(3*4)+5"
      ]
    },
    {
      "cell_type": "code",
      "source": [
        "#This will convert 200 minutes to hours by diving by 60\n",
        "200 / 60"
      ],
      "metadata": {
        "colab": {
          "base_uri": "https://localhost:8080/"
        },
        "id": "buV0nO7I0D4k",
        "outputId": "e745c66b-d1c5-4cfc-dfdf-e90749595511"
      },
      "execution_count": 3,
      "outputs": [
        {
          "output_type": "execute_result",
          "data": {
            "text/plain": [
              "3.3333333333333335"
            ]
          },
          "metadata": {},
          "execution_count": 3
        }
      ]
    },
    {
      "cell_type": "markdown",
      "source": [
        "##Author\n",
        "Turki Alzahrani"
      ],
      "metadata": {
        "id": "zEKTK2r50LCy"
      }
    }
  ]
}